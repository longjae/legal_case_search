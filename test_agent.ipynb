{
 "cells": [
  {
   "cell_type": "code",
   "execution_count": 17,
   "metadata": {},
   "outputs": [],
   "source": [
    "import os\n",
    "import json\n",
    "from langchain_openai import ChatOpenAI\n",
    "from langchain.embeddings import OpenAIEmbeddings\n",
    "from langchain_text_splitters import RecursiveCharacterTextSplitter\n",
    "from langchain_community.vectorstores import FAISS\n",
    "from langchain_community.retrievers import BM25Retriever\n",
    "from langchain_community.tools.tavily_search import TavilySearchResults\n",
    "from langchain.docstore.document import Document\n",
    "from langchain.retrievers import EnsembleRetriever\n",
    "from langchain.tools.retriever import create_retriever_tool\n",
    "from langchain.agents import create_tool_calling_agent\n",
    "from langchain.agents import AgentExecutor\n",
    "from common import AgentStreamParser\n",
    "\n",
    "from kiwipiepy import Kiwi\n",
    "from common import load_prompt\n",
    "from dotenv import load_dotenv\n",
    "\n",
    "load_dotenv()\n",
    "kiwi = Kiwi()"
   ]
  },
  {
   "cell_type": "code",
   "execution_count": 18,
   "metadata": {},
   "outputs": [],
   "source": [
    "search = TavilySearchResults(k=3)"
   ]
  },
  {
   "cell_type": "code",
   "execution_count": 19,
   "metadata": {},
   "outputs": [
    {
     "name": "stdout",
     "output_type": "stream",
     "text": [
      "293\n"
     ]
    }
   ],
   "source": [
    "DATA_DIR = \"./data\"\n",
    "\n",
    "count = 0\n",
    "for dir in os.listdir(DATA_DIR):\n",
    "    file_dir = os.path.join(DATA_DIR, dir)\n",
    "    if dir in [\".DS_Store\"]:\n",
    "        continue\n",
    "    for filename in os.listdir(file_dir):\n",
    "        count += 1\n",
    "\n",
    "print(count)"
   ]
  },
  {
   "cell_type": "code",
   "execution_count": 20,
   "metadata": {},
   "outputs": [],
   "source": [
    "DATA_DIR = \"./data\"\n",
    "\n",
    "documents = []\n",
    "for dir in os.listdir(DATA_DIR):\n",
    "    file_dir = os.path.join(DATA_DIR, dir)\n",
    "    # if dir in [\".DS_Store\", \"1981~2016\", \"2017\", \"2018\"]:\n",
    "    if dir in [\".DS_Store\"]:\n",
    "        continue\n",
    "    for filename in os.listdir(file_dir):\n",
    "        file_path = os.path.join(file_dir, filename)\n",
    "        with open(file_path, \"r\", encoding=\"utf-8\") as f:\n",
    "            data = json.load(f)\n",
    "            text = json.dumps(data, ensure_ascii=False)\n",
    "            documents.append(\n",
    "                {\n",
    "                    \"content\": text,\n",
    "                    \"metadata\": {\n",
    "                        \"file_path\": file_path,\n",
    "                        \"info\": {\n",
    "                            \"caseField\": data.get(\"info\", {}).get(\"caseFleid\", \"\"),\n",
    "                            \"detailField\": data.get(\"info\", {}).get(\"detailField\", \"\"),\n",
    "                            \"trailField\": data.get(\"info\", {}).get(\"trailField\", \"\"),\n",
    "                            \"caseNm\": data.get(\"info\", {}).get(\"caseNm\", \"\"),\n",
    "                            \"courtNm\": data.get(\"info\", {}).get(\"courtNm\", \"\"),\n",
    "                            \"judmnAdjuDe\": data.get(\"info\", {}).get(\"judmnAdjuDe\", \"\"),\n",
    "                            \"caseNo\": data.get(\"info\", {}).get(\"caseNo\", \"\"),\n",
    "                            \"relateLaword\": data.get(\"info\", {}).get(\n",
    "                                \"relateLaword\", \"\"\n",
    "                            ),\n",
    "                        },\n",
    "                    },\n",
    "                }\n",
    "            )"
   ]
  },
  {
   "cell_type": "code",
   "execution_count": 21,
   "metadata": {},
   "outputs": [],
   "source": [
    "def kiwi_tokenize(text):\n",
    "    return [token.form for token in kiwi.tokenize(text)]"
   ]
  },
  {
   "cell_type": "code",
   "execution_count": 22,
   "metadata": {},
   "outputs": [],
   "source": [
    "docs = [\n",
    "    Document(page_content=doc[\"content\"], metadata=doc[\"metadata\"]) for doc in documents\n",
    "]\n",
    "\n",
    "text_splitter = RecursiveCharacterTextSplitter(chunk_size=400, chunk_overlap=10)\n",
    "split_documents = text_splitter.split_documents(docs)\n",
    "\n",
    "embeddings = OpenAIEmbeddings()\n",
    "\n",
    "kiwi_bm25 = BM25Retriever.from_documents(\n",
    "    split_documents, preprocess_func=kiwi_tokenize, k=3\n",
    ")\n",
    "faiss = FAISS.from_documents(\n",
    "    documents=split_documents, embedding=embeddings\n",
    ").as_retriever(search_kwargs={\"k\": 3, \"fetch_k\": 10})\n",
    "\n",
    "kiwibm25_faiss_73 = EnsembleRetriever(\n",
    "    retrievers=[kiwi_bm25, faiss], weights=[0.7, 0.3], search_type=\"mmr\"\n",
    ")\n",
    "\n",
    "retriever = kiwibm25_faiss_73"
   ]
  },
  {
   "cell_type": "code",
   "execution_count": 23,
   "metadata": {},
   "outputs": [],
   "source": [
    "retriever_tool = create_retriever_tool(\n",
    "    retriever,\n",
    "    name=\"legal_case_search\",\n",
    "    description=\"use this tool to search information from the legal document\",\n",
    ")"
   ]
  },
  {
   "cell_type": "code",
   "execution_count": 24,
   "metadata": {},
   "outputs": [],
   "source": [
    "tools = [search, retriever_tool]"
   ]
  },
  {
   "cell_type": "code",
   "execution_count": 25,
   "metadata": {},
   "outputs": [],
   "source": [
    "prompt = load_prompt(\"./prompts/prompt_agent.yaml\", encoding=\"utf-8\")\n",
    "\n",
    "llm = ChatOpenAI(model_name=\"gpt-4o\", temperature=0)\n",
    "\n",
    "agent = create_tool_calling_agent(llm, tools, prompt)"
   ]
  },
  {
   "cell_type": "code",
   "execution_count": 26,
   "metadata": {},
   "outputs": [],
   "source": [
    "agent_executor = AgentExecutor(\n",
    "    agent=agent,\n",
    "    tools=tools,\n",
    "    max_iterations=5,\n",
    "    early_stopping_method=\"force\",\n",
    "    verbose=False,\n",
    ")"
   ]
  },
  {
   "cell_type": "code",
   "execution_count": 27,
   "metadata": {},
   "outputs": [],
   "source": [
    "agent_stream_parser = AgentStreamParser()"
   ]
  },
  {
   "cell_type": "code",
   "execution_count": 28,
   "metadata": {},
   "outputs": [
    {
     "name": "stdout",
     "output_type": "stream",
     "text": [
      "[도구 호출]\n",
      "Tool: legal_case_search\n",
      "query: 피해자의 집에서 성폭행 사건 관련 법\n",
      "Log: \n",
      "Invoking: `legal_case_search` with `{'query': '피해자의 집에서 성폭행 사건 관련 법'}`\n",
      "\n",
      "\n",
      "\n",
      "[도구 호출]\n",
      "Tool: tavily_search_results_json\n",
      "query: 유사한 성폭행 사건 사례\n",
      "Log: \n",
      "Invoking: `tavily_search_results_json` with `{'query': '유사한 성폭행 사건 사례'}`\n",
      "\n",
      "\n",
      "\n",
      "[관찰 내용]\n",
      "Observation: H과는 관계가 없다고 진술하다.가, 당심에 이르러서는 이를 번복하여 D의 지시에 의하여 그렇게 한 것이라고 진술하고 있는데, 이전까지의 일관된 취지의 진술 내용에 비추어 번복된 위 진술은 쉽사리 믿기 어렵다.\", \"피고인은 피해자에게 물을 붓는 등의 가해행위를 한 후 피해자의 상태가 나빠지자, 피해자가 피고인을 성폭행하려다가 피고인이 이를 모면하는 과정에서 정당방위로 뜨거운 물을 뿌리게 되었다는 상황을 작출하기 위하여 2013. 6. 27. 01:07경 및 12:12경 H 등과 함께 2차례에 걸쳐 휴대전화로 피고인이 옷을 벗고 있는 상태에서 피해자가 성폭행을 시인하는 모습을 동영상으로 촬영하였다. \", \"또한 피고인은 피해자의 화상이 심하여 H, D가 피해자를 병원에 데려가려 하고, 피해자도 너무 아프다며\n",
      "\n",
      "\"AA의 소유관계 다음 표에서 나타나는 바와 같이 2010년 무렵 AA의 주주 구성을 보면, 주주들 중에서 AN(Z의 차남), AO(Z의 장남), 주식회사 AQ(피해자 교회 관련 지주회사)는 피해자 교회에 실질적 영향력을 행사하던 7과 관련이 있다고 보인다. 그러나 이러한 일부 주주 구성만으로는 피해자 교회가 새를 실질적으로 소유하면서 운영하였다고 단정할 수 없다.\", \"오히려 피고인 B은 교회 건축추진위원장 이자 AA의 대표이사로서, 피해자 교회와 별도로 설립된 사업시행사인 AA를 통하여 이 사건 교회신축사업을 독자적 주도적으로 추진하되, 그 과정에서 건축주로서 담보 및 사업자금을 제공한 피해자 교회 측과 수차례 협의하였던 것으로 보일 뿐이다.\", \"나아가 AA는 피해자 교회와 별개의 법인격을 가지는\n",
      "\n",
      "취지로 진술하였음을 알 수 있다.\", \"그러나 수사기관에서의 3차 진술시부터 이 법정에 이르기까지 '이 사건 선술집에서 나와 피고인의 차를 탄 이후 정확하게 집 주소 번지수를 이야기해줬다'는 취지로 진술하였고, 이 법정에서는 이 사건 선술집에서 있었던 일과 그 이후 피고인의 차를 탄 것까지 정확히 기억이 난다 는 취지로 진술하였다.\", \"위와 같은 피해자의 각 진술을 살펴보면, 피해자는 이 사건 선술집에서 있었던 일에 관한 피해자의 기억 상태나 피해자가 피고인에게 집 주소를 알려주었는지 여부 및 피고인의 차로 피해자의 집 근처로 가게 된 경위에 관해 일관되게 진술하지 않고 있다.\", \"한편 피고인은 최초 수사를 받을 당시, 피해자가 알려준 주소로 이동하면서 피해자의 집에 가서 성관계를 하고 싶어 피해자에게\n",
      "\n",
      "피해자 보호 효과 등을 종합적으로 고려하여 판단하여야 한다(대법원 2012. 2. 23. 선고 2011도16863 판결 등 참조).\", \"위 법리에 비추어 살피건대, 피고인에게 성폭력범죄로 처벌받은 전력이 없고, 이 사건 범행의 경위 등에 비추어 성폭력의 습벽이나 재범의 위험성이 있다고 단정하기 어려운 점, 이 사건의 경우 신상정보 등록 및 성폭력 치료프로그램 수강만으로도 피고인의 재범을 방지하는 효과를 기대할 수 있다고 보이는 점이 있다.\", \"그 밖에 피고인의 나이, 직업, 가정환경, 사회적 유대관계 등 제반 사정을 종합하면, 피고인의 신상정보를 공개, 고지하여서는 아니 될 특별한 사정이 있다고 판단되므로, 성폭력범죄의 처벌 등에 관한 특례법 제47조 제1항, 제49조 제1항, 아동, 청소년의 성보호에\n",
      "\n",
      "처벌 및 피해자보호 등에 관한 법률(2010. 4. 15. 법률 제10258호로 성폭력범죄의 처벌 등에 관한 특례법이 제정되면서 같은 법 부칙 제5조 제10항에 의하여 성폭력범죄의 피해자보호 등에 관한 법률로 변경되기 전의 것) 제7조\", \"형법 제298조\", \"구 형법(2012 12. 18. 법률 제11574호로 개정되기 전의 것) 제42조\", \"구 성폭력범죄의 처벌 및 피해자보호 등에 관한 법률 제8조\", \"구 성폭력범죄의 처벌 등에 관한 특례법(2012. 12. 18. 법률 제11556호로 개정되기 전의 것) 제5조\", \"성폭력범죄의 처벌 등에 관한 특례법 제7조\", \"구 아동,청소년의 성보호에 관한 법률(2012. 12. 18. 법률 제11572호로 개정되기 전의 것) 제7조\", \"아동,청소년의\n",
      "\n",
      "폭행죄를 범한 경우가 있다.\", \"그런 경우 형법상의 법정형보다 더 무거운 1년 이상의 유기징역에 처하도록 하고 있다 여기에서 행위자에게 그러한 목적이 있었는지는 행위자의 나이 직업 등 개인적인 요소 범행의 동기 및 경위와 수단 방법 행위의 내용과 태양 피해자와의 인적관계 범행 전후의 정황 등 여러 사정을 종합하여 사회통념에 비추어 합리적으로 판단하여야 한다(대법원 2013.6.14. 선고 2009도 12055판결 참조).\", \"앞서 든 각 증거에 의하면 피해자가 2013.8. 중순경 내기 장기를 위해 맡긴 돈 2만 원을 갚지 않는다는 이유로 피고인을 경찰에 신고하였고 출동한 경찰 앞에서 피고인이 피해자를 폭행하여 폭행죄로 조사를 받은 사실 2013.9.7. 피고인이 피해자를 폭행하면서 \\\"그런 것 가지고\n",
      "[관찰 내용]\n",
      "Observation: [{'url': 'https://namu.wiki/w/흑산도+집단+성폭행+사건', 'content': '해당 문서에서 비교되는 밀양 여중생 집단 성폭행 사건은 오랫동안 수면 밑에서 자행된 탓에 가해자들에 의한 변질된 소문이 퍼진 ... 여성이 귀촌하면 안 되는 이유라는 게시물에 올라온 사례. 유사한 특성이 있는 고립된 지역은 안그래도 공무원이든'}, {'url': 'https://www.yna.co.kr/view/AKR20240912134000051', 'content': '사건/사고 법원/검찰 교육 ... 수험생 죽음 내몬 \\'알바 면접 성폭행\\' 40대에 징역 7년 ... 재판부는 \"정씨는 유사한 범죄로 누범 기간 중 자숙하지 않고 범행을 저질렀고 막 성인이 되었거나 성인이 되기 직전의 불특정 여성에게 접근해 약간의 신체접촉으로 큰돈을'}, {'url': 'https://m.blog.naver.com/westalice/222117546436', 'content': '[친족간 성폭행, 그루밍 실제사례입니다 끝까지 읽어주세요] ... 실제사례 2 : 29세 직장인(피해의식, ... 최소화하기 위해서는 반드시 범죄를 인지하는 즉시 경찰서로 가 신고를 해야만 하며, 사건 초기부터 신고를 할 경우게 조속한 사건 처리를 통해 가해자에'}, {'url': 'https://www.bbc.com/korean/news-62747480', 'content': '최근 \\'n번방\\' 사태와 유사한 형태의 미성년 성착취 범죄를 경찰이 수사중인 것으로 밝혀져 논란이 됐다. ... 맞게 범죄 대응도 변화해야 한다\"며'}, {'url': 'https://www.bbc.com/korean/news-50258422', 'content': \"심각한 성폭행 범죄가 대개 15년에서 20년을 선고받는 것에 비해 적은 형량이다. ... 사건과 매우 유사한 까닭에 거기서 이름을 따와 '만레사 늑대 떼\"}]\n",
      "[최종 답변]\n",
      "관련된 법은 \"성폭력범죄의 처벌 등에 관한 특례법\"과 \"형법 제298조\"입니다.\n",
      "\n",
      "유사한 사례로는 다음과 같은 사건들이 있습니다:\n",
      "1. [흑산도 집단 성폭행 사건](https://namu.wiki/w/흑산도+집단+성폭행+사건)\n",
      "2. [알바 면접 성폭행 사건](https://www.yna.co.kr/view/AKR20240912134000051)\n",
      "3. [친족간 성폭행 사례](https://m.blog.naver.com/westalice/222117546436)\n",
      "4. [n번방 사태와 유사한 미성년 성착취 범죄](https://www.bbc.com/korean/news-62747480)\n",
      "5. [만레사 늑대 떼 사건](https://www.bbc.com/korean/news-50258422)\n"
     ]
    }
   ],
   "source": [
    "# 질의에 대한 답변을 스트리밍으로 출력 요청\n",
    "result = agent_executor.stream(\n",
    "    {\n",
    "        \"question\": \"피해자의 집에서, 피해자의 몸 위에 올라타고 피해자의 바지와 속옷을 벗기고 피고인을 밀쳐내려고 하는 피해자의 양 손목을 잡아 위로 올려 누르고 몸으로 피해자의 몸을 눌러 저항하지 못하게 한 후 피고인의 성기를 피해자의 음부에 삽입한 사건이 발생했어. 이때 관련된 법이 어떤게 있는지 알려줘. 그리고 유사한 사례가 있는지도 찾아줘\"\n",
    "    }\n",
    ")\n",
    "\n",
    "for step in result:\n",
    "    # 중간 단계를 parser 를 사용하여 단계별로 출력\n",
    "    agent_stream_parser.process_agent_steps(step)"
   ]
  },
  {
   "cell_type": "code",
   "execution_count": 29,
   "metadata": {},
   "outputs": [
    {
     "name": "stdout",
     "output_type": "stream",
     "text": [
      "[최종 답변]\n",
      "형법 제297조의2에 따르면, 폭행 또는 협박으로 사람에 대하여 성적 수치심이나 혐오감을 일으키는 행위를 한 경우에는 강제추행죄가 성립할 수 있습니다.\n"
     ]
    }
   ],
   "source": [
    "# 질의에 대한 답변을 스트리밍으로 출력 요청\n",
    "result = agent_executor.stream(\n",
    "    {\n",
    "        \"question\": \"피고인은 폭행으로 피해자에 대하여 성기에 손가락을 넣는 행위를 하였을 때 관련된 법에 대해 알려줘\"\n",
    "    }\n",
    ")\n",
    "\n",
    "for step in result:\n",
    "    # 중간 단계를 parser 를 사용하여 단계별로 출력\n",
    "    agent_stream_parser.process_agent_steps(step)"
   ]
  },
  {
   "cell_type": "code",
   "execution_count": 30,
   "metadata": {},
   "outputs": [
    {
     "name": "stdout",
     "output_type": "stream",
     "text": [
      "[{'output': '형법 제297조의2에 따르면, 폭행 또는 협박으로 사람에 대하여 성적 수치심이나 혐오감을 일으키는 행위를 한 경우에는 처벌을 받을 수 있습니다. 이는 성폭력범죄의 처벌 등에 관한 특례법에 의해 더욱 강화된 처벌이 적용될 수 있습니다.', 'messages': [AIMessage(content='형법 제297조의2에 따르면, 폭행 또는 협박으로 사람에 대하여 성적 수치심이나 혐오감을 일으키는 행위를 한 경우에는 처벌을 받을 수 있습니다. 이는 성폭력범죄의 처벌 등에 관한 특례법에 의해 더욱 강화된 처벌이 적용될 수 있습니다.', additional_kwargs={}, response_metadata={})]}]\n"
     ]
    }
   ],
   "source": [
    "chunks = []\n",
    "\n",
    "for chunk in agent_executor.stream(\n",
    "    {\n",
    "        \"question\": \"피고인은 폭행으로 피해자에 대하여 성기에 손가락을 넣는 행위를 하였을 때 관련된 법에 대해 알려줘\"\n",
    "    }\n",
    "):\n",
    "    chunks.append(chunk)\n",
    "print(chunks)"
   ]
  },
  {
   "cell_type": "code",
   "execution_count": 35,
   "metadata": {},
   "outputs": [
    {
     "name": "stdout",
     "output_type": "stream",
     "text": [
      "형법 제297조의2에 따르면, 폭행 또는 협박으로 사람에 대하여 성적 수치심이나 혐오감을 일으키는 행위를 한 경우에는 처벌을 받을 수 있습니다. 이는 성폭력범죄의 처벌 등에 관한 특례법에 의해 더욱 강화된 처벌이 적용될 수 있습니다.\n"
     ]
    }
   ],
   "source": [
    "for chunk in chunks:\n",
    "    if \"output\" in chunk:\n",
    "        print(chunk.get(\"output\"))"
   ]
  },
  {
   "cell_type": "code",
   "execution_count": 36,
   "metadata": {},
   "outputs": [
    {
     "name": "stdout",
     "output_type": "stream",
     "text": [
      "형법 제297조의2에 따르면, 폭행 또는 협박으로 사람의 신체에 성기를 넣거나 성기, 항문에 손가락 등 신체의 일부를 넣는 행위는 2년 이상의 유기징역에 처하도록 규정되어 있습니다. 이는 강제추행 중 강간에 준하는 행위로 평가되어 더 중하게 처벌됩니다.\n"
     ]
    }
   ],
   "source": [
    "chunks = []\n",
    "\n",
    "for chunk in agent_executor.stream(\n",
    "    {\n",
    "        \"question\": \"피고인은 폭행으로 피해자에 대하여 성기에 손가락을 넣는 행위를 하였을 때 처벌될 수 있는 형량에 대해 알려줘\"\n",
    "    }\n",
    "):\n",
    "    chunks.append(chunk)\n",
    "for chunk in chunks:\n",
    "    if \"output\" in chunk:\n",
    "        print(chunk.get(\"output\"))"
   ]
  },
  {
   "cell_type": "code",
   "execution_count": 38,
   "metadata": {},
   "outputs": [
    {
     "name": "stderr",
     "output_type": "stream",
     "text": [
      "[nltk_data] Downloading package wordnet to\n",
      "[nltk_data]     C:\\Users\\mmqq2\\AppData\\Roaming\\nltk_data...\n"
     ]
    },
    {
     "data": {
      "text/plain": [
       "True"
      ]
     },
     "execution_count": 38,
     "metadata": {},
     "output_type": "execute_result"
    }
   ],
   "source": [
    "import nltk\n",
    "\n",
    "nltk.download(\"wordnet\")"
   ]
  },
  {
   "cell_type": "code",
   "execution_count": 39,
   "metadata": {},
   "outputs": [],
   "source": [
    "from nltk.corpus import wordnet as wn\n",
    "\n",
    "wn.ensure_loaded()"
   ]
  },
  {
   "cell_type": "code",
   "execution_count": 84,
   "metadata": {},
   "outputs": [
    {
     "name": "stdout",
     "output_type": "stream",
     "text": [
      "['피고인은 공소외 00, 00, 00, 00, 00과 공모하여 피고인은 형광칩을 삽입하여 패의 투시가 가능하도록 한 특수화투를 제작하고, 위 00은 카메라, 노트북컴퓨터, 화면카트기 등 화투투시용 기기 20여 종을 준비하고, 위 00, 00는 몰래 카메라를 조작하면서 화투의 패를 읽고, 위 00는 직접 이른바 선수로 참여하여 화투를 하였다.', '위 00, 00은 이른바 선수를 모집하기로 역할을 분담하여, 1. 2000. 3. 10. 15:00경부터 같은 날 21:00경까지 사이에 부산 00구 00동에 있는 00모텔 502호실에서, 위 00, 00, 00는 위 모텔 502호실 및 403호실을 빌려 502호실 에어컨 속에 소형 카메라를 설치하고, 403호실에 이 카메라를 통하여 도박현장을 볼 수 있도록 모니터, 노트북컴퓨터, 화면카트기 등을 설치하여 위 카메라와 연결하여 놓았다.', '위 00, 00은 사기도박을 할 상대로 피해자 00, 00, 00를 모집하여 온 다음, 위 00은 사기도박을 할 상대로 피해자 00, 00, 00를 모집하여 온 다음, 위 00가 사실은 위와 같이 파개 투시되는 특수화투를 이용하여 승패를 조작할 것임에도 불구하고 마치 우연하게 승부가 결정되는 것인 양 행세하였다.', '위 피해자들과 속칭 도리짓고땡이라는 도박을 하면서, 위 00, 00이 위 카메라로 바닥에 깔린 화투를 투시하여 패를 읽은 뒤 00가 소지하고 잇는 신호기로 신호를 보내고, 00는 그 신호에 따라 패를 확인하는 수법으로 사기도박을 하여 피해자 00로부터 500만 원을, 같은 00으로부터 500만 원을, 같은 00로부터 1,000만 원을, 각 따서 이를 편취하였다.', '2000. 3. 14. 15:00경부터 같은 날 22:00경까지 사이에 같은 장소에서, 피해자 00, 00, 00를 상대로 제1항 기재와 같은 방법으로 사기도박을 하여 피해자 00로부터 600만 원을, 같은 00로부터 300만 원을, 각 따서 이를 편취하였다.', '2000. 3. 15. 14:00경부터 같은 날 21:00경까지 사이에 같은 장소에서 피해자 00, 00을 상대로 제1항 기재와 같은 방법으로 사기도박을 하여 피해자 00로부터 500만 원을, 같은 00으로부터 500만 원을 각 따서 이를 편취하였다.', '2000. 3. 17. 15:20경 같은 장소에서, 피해자 00, 00을 상대로 제1항 기재와 같은 방법으로 사기도박을 하여 위 피해자들로부터 돈을 편취하려고 하였으나 단속으로 인해 검거되는 바람에 그 뜻을 이루지 못하고 미수에 그친 것이다.']\n"
     ]
    }
   ],
   "source": [
    "json_string = json.dumps(documents[0].get(\"content\"), ensure_ascii=False)\n",
    "data = json.loads(json.loads(json_string)).get(\"facts\").get(\"bsisFacts\")\n",
    "print(data)"
   ]
  },
  {
   "cell_type": "code",
   "execution_count": 91,
   "metadata": {},
   "outputs": [],
   "source": [
    "from langchain_core.prompts import PromptTemplate\n",
    "from langchain_core.output_parsers import StrOutputParser\n",
    "\n",
    "\n",
    "def make_question_data(documents):\n",
    "    dataset_prompt = PromptTemplate.from_template(\n",
    "        \"\"\"\n",
    "    Please summarize the sentence so that I can use it in a query that asks how many years I will be sentenced to legally.\n",
    "    Please translate in Korean.\n",
    "\n",
    "    Question: {question}\n",
    "    \"\"\"\n",
    "    )\n",
    "\n",
    "    llm = ChatOpenAI(model_name=\"gpt-4o\", temperature=0)\n",
    "\n",
    "    dataset_chain = dataset_prompt | llm | StrOutputParser()\n",
    "\n",
    "    json_string = json.dumps(documents.get(\"content\"), ensure_ascii=False)\n",
    "    data = json.loads(json.loads(json_string)).get(\"facts\").get(\"bsisFacts\")\n",
    "    question_data = dataset_chain.invoke({\"question\": str(data)})\n",
    "\n",
    "    return question_data"
   ]
  },
  {
   "cell_type": "code",
   "execution_count": 92,
   "metadata": {},
   "outputs": [
    {
     "name": "stdout",
     "output_type": "stream",
     "text": [
      "질문: 피고인은 공범들과 함께 특수화투와 도박 장비를 사용하여 사기도박을 벌였고, 여러 피해자들로부터 총 3,400만 원을 편취하였으며, 마지막 시도는 단속으로 인해 미수에 그쳤습니다. 이로 인해 피고인은 법적으로 몇 년의 형을 선고받을 수 있습니까?\n"
     ]
    }
   ],
   "source": [
    "print(make_question_data(documents[0]))"
   ]
  },
  {
   "cell_type": "code",
   "execution_count": null,
   "metadata": {},
   "outputs": [
    {
     "name": "stdout",
     "output_type": "stream",
     "text": [
      "질문: 피고인은 공범들과 함께 특수화투와 도박 장비를 사용하여 사기도박을 벌였고, 여러 피해자들로부터 총 3,400만 원을 편취하였으며, 마지막 시도는 미수에 그쳤습니다. 이로 인해 법적으로 몇 년의 형을 선고받을 수 있습니까?\n",
      "[도구 호출]\n",
      "Tool: legal_case_search\n",
      "query: 사기도박 형량\n",
      "Log: \n",
      "Invoking: `legal_case_search` with `{'query': '사기도박 형량'}`\n",
      "\n",
      "\n",
      "\n",
      "[관찰 내용]\n",
      "Observation: 같은 날 22:00경까지 사이에 같은 장소에서, 피해자 00, 00, 00를 상대로 제1항 기재와 같은 방법으로 사기도박을 하여 피해자 00로부터 600만 원을, 같은 00로부터 300만 원을, 각 따서 이를 편취하였다.\", \"2000. 3. 15. 14:00경부터 같은 날 21:00경까지 사이에 같은 장소에서 피해자 00, 00을 상대로 제1항 기재와 같은 방법으로 사기도박을 하여 피해자 00로부터 500만 원을, 같은 00으로부터 500만 원을 각 따서 이를 편취하였다.\", \"2000. 3. 17. 15:20경 같은 장소에서, 피해자 00, 00을 상대로 제1항 기재와 같은 방법으로 사기도박을 하여 위 피해자들로부터 돈을 편취하려고 하였으나 단속으로 인해 검거되는 바람에 그 뜻을 이루지 못하고 미수에\n",
      "\n",
      "할 상대로 피해자 00, 00, 00를 모집하여 온 다음, 위 00은 사기도박을 할 상대로 피해자 00, 00, 00를 모집하여 온 다음, 위 00가 사실은 위와 같이 파개 투시되는 특수화투를 이용하여 승패를 조작할 것임에도 불구하고 마치 우연하게 승부가 결정되는 것인 양 행세하였다.\", \"위 피해자들과 속칭 도리짓고땡이라는 도박을 하면서, 위 00, 00이 위 카메라로 바닥에 깔린 화투를 투시하여 패를 읽은 뒤 00가 소지하고 잇는 신호기로 신호를 보내고, 00는 그 신호에 따라 패를 확인하는 수법으로 사기도박을 하여 피해자 00로부터 500만 원을, 같은 00으로부터 500만 원을, 같은 00로부터 1,000만 원을, 각 따서 이를 편취하였다.\", \"2000. 3. 14. 15:00경부터 같은 날\n",
      "\n",
      "당연히 구현되어야 하지만, 국민의 사생활 영역에 관계된 모든 증거의 제출이 곧바로 금지되는 것으로 볼 수는 없으므로 법원으로서는 효과적인 형사소추 및 형사소송에서 진실발견이라는 공익과 개인의 인격적 이익 등 보호이익을 비교형량하여 그 허용 여부를 결정하여야 한다. \", \"이때 법원이 그 비교형량을 함에 있어서는 증거수집 절차와 관련된 모든 사정, 즉 사생활 내지 인격적 이익을 보호하여야 할 필요성 여부 및 정도, 증거수집 과정에서 사생활 기타 인격적 이익을 침해하게 된 경위와 침해의 내용 및 정도, 형사소추의 대상이 되는 범죄의 경중 및 성격, 피고인의 증거동의 여부 등을 전체적·종합적으로 고려하여야 한다.\", \"단지 형사소추에 필요한 증거라는 사정만을 들어 곧바로 형사소송에서 진실 발견이라는 공익이\n",
      "\n",
      "00은 현장에 출동한 경찰관들을 위험한 물건인 손도끼를 휘두르고, 경찰관들에게 폭행을 가하여 경찰관들의 범죄예방 및 진압업무에 관한 정당한 직무집행을 방해하고 이로 인하여 00에게 약 4주간의 치료를 요하는 비골골절을, 정*에게 약 10일간의 치료를 요하는 우측 제5수지 교상열창의 상해를 각 가하였다.\"]}, \"assrs\": {\"acusrAssrs\": [], \"dedatAssrs\": []}, \"facts\": {\"bsisFacts\": [\"피고인은 2012. 4. 9. 15:00경 0000에 있는 상호를 알 수 없는 식당에서 동생인 피해자 00(36세)과 술을 마시던 중, 어머니에 대한 부양 문제로 말다툼을 하다가 피해자에게 충고를 하였는데도 오히려 피해자가 \\\"기분 나쁘다\\\"며 주먹으로 피고인의 얼굴을 3회\n",
      "\n",
      "젖은 잉크 포장비닐 5개(증 제9호), 잉크주입 주사기 5개(증 제10호), 빨간고무코팅 목장갑 1짝(증 제11호)를 피고인 00로부터 각 몰수한다.\", \"한국은행권 오만 원권 위폐(기번호 CJ0348045A) 40매(증 제12호), 30cm 사무용 자 2개(증 제13호), 사무용 칼 1개(증 제14호)를 피고인 00으로부터, 0(00사용) 검정색 SKY 1개(증 제15호)를 피고인 00로부터 각 몰수한다.\"]}}\n",
      "\n",
      "각 300만원, 100만원을 공탁한 점, 이 사건 범행을 모두 인정하며 자신의 잘못을 뉘우치고 있는 점 등이 있다.\", \"아래와 같은 점을 모두 고려할 때, 권고형량범위의 하한이 무겁다고 판단되어 이를 이탈하여 형을 정한다.\"]}, \"close\": {\"cnclsns\": [\"피고인 00을 징역 8월에, 피고인 00을 징역 2년에 각 처한다.\", \"다만, 피고인 00에 대하여는 이 판결 확정일부터 2년간 위 형의 집행을 유예한다. 압수된 부엌칼 1자루(증 제1호)를 피고인 00으로 부터, 손도끼 1자루(증 제2호)를 피고인 00으로부터 각 몰수한다.\"]}}\n",
      "[도구 호출]\n",
      "Tool: legal_case_search\n",
      "query: 사기도박 형량\n",
      "Log: \n",
      "Invoking: `legal_case_search` with `{'query': '사기도박 형량'}`\n",
      "\n",
      "\n",
      "\n",
      "[관찰 내용]\n",
      "Observation: 같은 날 22:00경까지 사이에 같은 장소에서, 피해자 00, 00, 00를 상대로 제1항 기재와 같은 방법으로 사기도박을 하여 피해자 00로부터 600만 원을, 같은 00로부터 300만 원을, 각 따서 이를 편취하였다.\", \"2000. 3. 15. 14:00경부터 같은 날 21:00경까지 사이에 같은 장소에서 피해자 00, 00을 상대로 제1항 기재와 같은 방법으로 사기도박을 하여 피해자 00로부터 500만 원을, 같은 00으로부터 500만 원을 각 따서 이를 편취하였다.\", \"2000. 3. 17. 15:20경 같은 장소에서, 피해자 00, 00을 상대로 제1항 기재와 같은 방법으로 사기도박을 하여 위 피해자들로부터 돈을 편취하려고 하였으나 단속으로 인해 검거되는 바람에 그 뜻을 이루지 못하고 미수에\n",
      "\n",
      "할 상대로 피해자 00, 00, 00를 모집하여 온 다음, 위 00은 사기도박을 할 상대로 피해자 00, 00, 00를 모집하여 온 다음, 위 00가 사실은 위와 같이 파개 투시되는 특수화투를 이용하여 승패를 조작할 것임에도 불구하고 마치 우연하게 승부가 결정되는 것인 양 행세하였다.\", \"위 피해자들과 속칭 도리짓고땡이라는 도박을 하면서, 위 00, 00이 위 카메라로 바닥에 깔린 화투를 투시하여 패를 읽은 뒤 00가 소지하고 잇는 신호기로 신호를 보내고, 00는 그 신호에 따라 패를 확인하는 수법으로 사기도박을 하여 피해자 00로부터 500만 원을, 같은 00으로부터 500만 원을, 같은 00로부터 1,000만 원을, 각 따서 이를 편취하였다.\", \"2000. 3. 14. 15:00경부터 같은 날\n",
      "\n",
      "당연히 구현되어야 하지만, 국민의 사생활 영역에 관계된 모든 증거의 제출이 곧바로 금지되는 것으로 볼 수는 없으므로 법원으로서는 효과적인 형사소추 및 형사소송에서 진실발견이라는 공익과 개인의 인격적 이익 등 보호이익을 비교형량하여 그 허용 여부를 결정하여야 한다. \", \"이때 법원이 그 비교형량을 함에 있어서는 증거수집 절차와 관련된 모든 사정, 즉 사생활 내지 인격적 이익을 보호하여야 할 필요성 여부 및 정도, 증거수집 과정에서 사생활 기타 인격적 이익을 침해하게 된 경위와 침해의 내용 및 정도, 형사소추의 대상이 되는 범죄의 경중 및 성격, 피고인의 증거동의 여부 등을 전체적·종합적으로 고려하여야 한다.\", \"단지 형사소추에 필요한 증거라는 사정만을 들어 곧바로 형사소송에서 진실 발견이라는 공익이\n",
      "\n",
      "00은 현장에 출동한 경찰관들을 위험한 물건인 손도끼를 휘두르고, 경찰관들에게 폭행을 가하여 경찰관들의 범죄예방 및 진압업무에 관한 정당한 직무집행을 방해하고 이로 인하여 00에게 약 4주간의 치료를 요하는 비골골절을, 정*에게 약 10일간의 치료를 요하는 우측 제5수지 교상열창의 상해를 각 가하였다.\"]}, \"assrs\": {\"acusrAssrs\": [], \"dedatAssrs\": []}, \"facts\": {\"bsisFacts\": [\"피고인은 2012. 4. 9. 15:00경 0000에 있는 상호를 알 수 없는 식당에서 동생인 피해자 00(36세)과 술을 마시던 중, 어머니에 대한 부양 문제로 말다툼을 하다가 피해자에게 충고를 하였는데도 오히려 피해자가 \\\"기분 나쁘다\\\"며 주먹으로 피고인의 얼굴을 3회\n",
      "\n",
      "젖은 잉크 포장비닐 5개(증 제9호), 잉크주입 주사기 5개(증 제10호), 빨간고무코팅 목장갑 1짝(증 제11호)를 피고인 00로부터 각 몰수한다.\", \"한국은행권 오만 원권 위폐(기번호 CJ0348045A) 40매(증 제12호), 30cm 사무용 자 2개(증 제13호), 사무용 칼 1개(증 제14호)를 피고인 00으로부터, 0(00사용) 검정색 SKY 1개(증 제15호)를 피고인 00로부터 각 몰수한다.\"]}}\n",
      "\n",
      "각 300만원, 100만원을 공탁한 점, 이 사건 범행을 모두 인정하며 자신의 잘못을 뉘우치고 있는 점 등이 있다.\", \"아래와 같은 점을 모두 고려할 때, 권고형량범위의 하한이 무겁다고 판단되어 이를 이탈하여 형을 정한다.\"]}, \"close\": {\"cnclsns\": [\"피고인 00을 징역 8월에, 피고인 00을 징역 2년에 각 처한다.\", \"다만, 피고인 00에 대하여는 이 판결 확정일부터 2년간 위 형의 집행을 유예한다. 압수된 부엌칼 1자루(증 제1호)를 피고인 00으로 부터, 손도끼 1자루(증 제2호)를 피고인 00으로부터 각 몰수한다.\"]}}\n",
      "[도구 호출]\n",
      "Tool: legal_case_search\n",
      "query: 사기도박 형량\n",
      "Log: \n",
      "Invoking: `legal_case_search` with `{'query': '사기도박 형량'}`\n",
      "\n",
      "\n",
      "\n",
      "[관찰 내용]\n",
      "Observation: 같은 날 22:00경까지 사이에 같은 장소에서, 피해자 00, 00, 00를 상대로 제1항 기재와 같은 방법으로 사기도박을 하여 피해자 00로부터 600만 원을, 같은 00로부터 300만 원을, 각 따서 이를 편취하였다.\", \"2000. 3. 15. 14:00경부터 같은 날 21:00경까지 사이에 같은 장소에서 피해자 00, 00을 상대로 제1항 기재와 같은 방법으로 사기도박을 하여 피해자 00로부터 500만 원을, 같은 00으로부터 500만 원을 각 따서 이를 편취하였다.\", \"2000. 3. 17. 15:20경 같은 장소에서, 피해자 00, 00을 상대로 제1항 기재와 같은 방법으로 사기도박을 하여 위 피해자들로부터 돈을 편취하려고 하였으나 단속으로 인해 검거되는 바람에 그 뜻을 이루지 못하고 미수에\n",
      "\n",
      "할 상대로 피해자 00, 00, 00를 모집하여 온 다음, 위 00은 사기도박을 할 상대로 피해자 00, 00, 00를 모집하여 온 다음, 위 00가 사실은 위와 같이 파개 투시되는 특수화투를 이용하여 승패를 조작할 것임에도 불구하고 마치 우연하게 승부가 결정되는 것인 양 행세하였다.\", \"위 피해자들과 속칭 도리짓고땡이라는 도박을 하면서, 위 00, 00이 위 카메라로 바닥에 깔린 화투를 투시하여 패를 읽은 뒤 00가 소지하고 잇는 신호기로 신호를 보내고, 00는 그 신호에 따라 패를 확인하는 수법으로 사기도박을 하여 피해자 00로부터 500만 원을, 같은 00으로부터 500만 원을, 같은 00로부터 1,000만 원을, 각 따서 이를 편취하였다.\", \"2000. 3. 14. 15:00경부터 같은 날\n",
      "\n",
      "당연히 구현되어야 하지만, 국민의 사생활 영역에 관계된 모든 증거의 제출이 곧바로 금지되는 것으로 볼 수는 없으므로 법원으로서는 효과적인 형사소추 및 형사소송에서 진실발견이라는 공익과 개인의 인격적 이익 등 보호이익을 비교형량하여 그 허용 여부를 결정하여야 한다. \", \"이때 법원이 그 비교형량을 함에 있어서는 증거수집 절차와 관련된 모든 사정, 즉 사생활 내지 인격적 이익을 보호하여야 할 필요성 여부 및 정도, 증거수집 과정에서 사생활 기타 인격적 이익을 침해하게 된 경위와 침해의 내용 및 정도, 형사소추의 대상이 되는 범죄의 경중 및 성격, 피고인의 증거동의 여부 등을 전체적·종합적으로 고려하여야 한다.\", \"단지 형사소추에 필요한 증거라는 사정만을 들어 곧바로 형사소송에서 진실 발견이라는 공익이\n",
      "\n",
      "00은 현장에 출동한 경찰관들을 위험한 물건인 손도끼를 휘두르고, 경찰관들에게 폭행을 가하여 경찰관들의 범죄예방 및 진압업무에 관한 정당한 직무집행을 방해하고 이로 인하여 00에게 약 4주간의 치료를 요하는 비골골절을, 정*에게 약 10일간의 치료를 요하는 우측 제5수지 교상열창의 상해를 각 가하였다.\"]}, \"assrs\": {\"acusrAssrs\": [], \"dedatAssrs\": []}, \"facts\": {\"bsisFacts\": [\"피고인은 2012. 4. 9. 15:00경 0000에 있는 상호를 알 수 없는 식당에서 동생인 피해자 00(36세)과 술을 마시던 중, 어머니에 대한 부양 문제로 말다툼을 하다가 피해자에게 충고를 하였는데도 오히려 피해자가 \\\"기분 나쁘다\\\"며 주먹으로 피고인의 얼굴을 3회\n",
      "\n",
      "젖은 잉크 포장비닐 5개(증 제9호), 잉크주입 주사기 5개(증 제10호), 빨간고무코팅 목장갑 1짝(증 제11호)를 피고인 00로부터 각 몰수한다.\", \"한국은행권 오만 원권 위폐(기번호 CJ0348045A) 40매(증 제12호), 30cm 사무용 자 2개(증 제13호), 사무용 칼 1개(증 제14호)를 피고인 00으로부터, 0(00사용) 검정색 SKY 1개(증 제15호)를 피고인 00로부터 각 몰수한다.\"]}}\n",
      "\n",
      "각 300만원, 100만원을 공탁한 점, 이 사건 범행을 모두 인정하며 자신의 잘못을 뉘우치고 있는 점 등이 있다.\", \"아래와 같은 점을 모두 고려할 때, 권고형량범위의 하한이 무겁다고 판단되어 이를 이탈하여 형을 정한다.\"]}, \"close\": {\"cnclsns\": [\"피고인 00을 징역 8월에, 피고인 00을 징역 2년에 각 처한다.\", \"다만, 피고인 00에 대하여는 이 판결 확정일부터 2년간 위 형의 집행을 유예한다. 압수된 부엌칼 1자루(증 제1호)를 피고인 00으로 부터, 손도끼 1자루(증 제2호)를 피고인 00으로부터 각 몰수한다.\"]}}\n",
      "[도구 호출]\n",
      "Tool: legal_case_search\n",
      "query: 사기도박 형량\n",
      "Log: \n",
      "Invoking: `legal_case_search` with `{'query': '사기도박 형량'}`\n",
      "\n",
      "\n",
      "\n",
      "[관찰 내용]\n",
      "Observation: 같은 날 22:00경까지 사이에 같은 장소에서, 피해자 00, 00, 00를 상대로 제1항 기재와 같은 방법으로 사기도박을 하여 피해자 00로부터 600만 원을, 같은 00로부터 300만 원을, 각 따서 이를 편취하였다.\", \"2000. 3. 15. 14:00경부터 같은 날 21:00경까지 사이에 같은 장소에서 피해자 00, 00을 상대로 제1항 기재와 같은 방법으로 사기도박을 하여 피해자 00로부터 500만 원을, 같은 00으로부터 500만 원을 각 따서 이를 편취하였다.\", \"2000. 3. 17. 15:20경 같은 장소에서, 피해자 00, 00을 상대로 제1항 기재와 같은 방법으로 사기도박을 하여 위 피해자들로부터 돈을 편취하려고 하였으나 단속으로 인해 검거되는 바람에 그 뜻을 이루지 못하고 미수에\n",
      "\n",
      "할 상대로 피해자 00, 00, 00를 모집하여 온 다음, 위 00은 사기도박을 할 상대로 피해자 00, 00, 00를 모집하여 온 다음, 위 00가 사실은 위와 같이 파개 투시되는 특수화투를 이용하여 승패를 조작할 것임에도 불구하고 마치 우연하게 승부가 결정되는 것인 양 행세하였다.\", \"위 피해자들과 속칭 도리짓고땡이라는 도박을 하면서, 위 00, 00이 위 카메라로 바닥에 깔린 화투를 투시하여 패를 읽은 뒤 00가 소지하고 잇는 신호기로 신호를 보내고, 00는 그 신호에 따라 패를 확인하는 수법으로 사기도박을 하여 피해자 00로부터 500만 원을, 같은 00으로부터 500만 원을, 같은 00로부터 1,000만 원을, 각 따서 이를 편취하였다.\", \"2000. 3. 14. 15:00경부터 같은 날\n",
      "\n",
      "당연히 구현되어야 하지만, 국민의 사생활 영역에 관계된 모든 증거의 제출이 곧바로 금지되는 것으로 볼 수는 없으므로 법원으로서는 효과적인 형사소추 및 형사소송에서 진실발견이라는 공익과 개인의 인격적 이익 등 보호이익을 비교형량하여 그 허용 여부를 결정하여야 한다. \", \"이때 법원이 그 비교형량을 함에 있어서는 증거수집 절차와 관련된 모든 사정, 즉 사생활 내지 인격적 이익을 보호하여야 할 필요성 여부 및 정도, 증거수집 과정에서 사생활 기타 인격적 이익을 침해하게 된 경위와 침해의 내용 및 정도, 형사소추의 대상이 되는 범죄의 경중 및 성격, 피고인의 증거동의 여부 등을 전체적·종합적으로 고려하여야 한다.\", \"단지 형사소추에 필요한 증거라는 사정만을 들어 곧바로 형사소송에서 진실 발견이라는 공익이\n",
      "\n",
      "00은 현장에 출동한 경찰관들을 위험한 물건인 손도끼를 휘두르고, 경찰관들에게 폭행을 가하여 경찰관들의 범죄예방 및 진압업무에 관한 정당한 직무집행을 방해하고 이로 인하여 00에게 약 4주간의 치료를 요하는 비골골절을, 정*에게 약 10일간의 치료를 요하는 우측 제5수지 교상열창의 상해를 각 가하였다.\"]}, \"assrs\": {\"acusrAssrs\": [], \"dedatAssrs\": []}, \"facts\": {\"bsisFacts\": [\"피고인은 2012. 4. 9. 15:00경 0000에 있는 상호를 알 수 없는 식당에서 동생인 피해자 00(36세)과 술을 마시던 중, 어머니에 대한 부양 문제로 말다툼을 하다가 피해자에게 충고를 하였는데도 오히려 피해자가 \\\"기분 나쁘다\\\"며 주먹으로 피고인의 얼굴을 3회\n",
      "\n",
      "젖은 잉크 포장비닐 5개(증 제9호), 잉크주입 주사기 5개(증 제10호), 빨간고무코팅 목장갑 1짝(증 제11호)를 피고인 00로부터 각 몰수한다.\", \"한국은행권 오만 원권 위폐(기번호 CJ0348045A) 40매(증 제12호), 30cm 사무용 자 2개(증 제13호), 사무용 칼 1개(증 제14호)를 피고인 00으로부터, 0(00사용) 검정색 SKY 1개(증 제15호)를 피고인 00로부터 각 몰수한다.\"]}}\n",
      "\n",
      "각 300만원, 100만원을 공탁한 점, 이 사건 범행을 모두 인정하며 자신의 잘못을 뉘우치고 있는 점 등이 있다.\", \"아래와 같은 점을 모두 고려할 때, 권고형량범위의 하한이 무겁다고 판단되어 이를 이탈하여 형을 정한다.\"]}, \"close\": {\"cnclsns\": [\"피고인 00을 징역 8월에, 피고인 00을 징역 2년에 각 처한다.\", \"다만, 피고인 00에 대하여는 이 판결 확정일부터 2년간 위 형의 집행을 유예한다. 압수된 부엌칼 1자루(증 제1호)를 피고인 00으로 부터, 손도끼 1자루(증 제2호)를 피고인 00으로부터 각 몰수한다.\"]}}\n",
      "[도구 호출]\n",
      "Tool: legal_case_search\n",
      "query: 사기도박 형량\n",
      "Log: \n",
      "Invoking: `legal_case_search` with `{'query': '사기도박 형량'}`\n",
      "\n",
      "\n",
      "\n"
     ]
    },
    {
     "name": "stderr",
     "output_type": "stream",
     "text": [
      "Stopping agent prematurely due to triggering stop condition\n"
     ]
    },
    {
     "name": "stdout",
     "output_type": "stream",
     "text": [
      "[관찰 내용]\n",
      "Observation: 같은 날 22:00경까지 사이에 같은 장소에서, 피해자 00, 00, 00를 상대로 제1항 기재와 같은 방법으로 사기도박을 하여 피해자 00로부터 600만 원을, 같은 00로부터 300만 원을, 각 따서 이를 편취하였다.\", \"2000. 3. 15. 14:00경부터 같은 날 21:00경까지 사이에 같은 장소에서 피해자 00, 00을 상대로 제1항 기재와 같은 방법으로 사기도박을 하여 피해자 00로부터 500만 원을, 같은 00으로부터 500만 원을 각 따서 이를 편취하였다.\", \"2000. 3. 17. 15:20경 같은 장소에서, 피해자 00, 00을 상대로 제1항 기재와 같은 방법으로 사기도박을 하여 위 피해자들로부터 돈을 편취하려고 하였으나 단속으로 인해 검거되는 바람에 그 뜻을 이루지 못하고 미수에\n",
      "\n",
      "할 상대로 피해자 00, 00, 00를 모집하여 온 다음, 위 00은 사기도박을 할 상대로 피해자 00, 00, 00를 모집하여 온 다음, 위 00가 사실은 위와 같이 파개 투시되는 특수화투를 이용하여 승패를 조작할 것임에도 불구하고 마치 우연하게 승부가 결정되는 것인 양 행세하였다.\", \"위 피해자들과 속칭 도리짓고땡이라는 도박을 하면서, 위 00, 00이 위 카메라로 바닥에 깔린 화투를 투시하여 패를 읽은 뒤 00가 소지하고 잇는 신호기로 신호를 보내고, 00는 그 신호에 따라 패를 확인하는 수법으로 사기도박을 하여 피해자 00로부터 500만 원을, 같은 00으로부터 500만 원을, 같은 00로부터 1,000만 원을, 각 따서 이를 편취하였다.\", \"2000. 3. 14. 15:00경부터 같은 날\n",
      "\n",
      "당연히 구현되어야 하지만, 국민의 사생활 영역에 관계된 모든 증거의 제출이 곧바로 금지되는 것으로 볼 수는 없으므로 법원으로서는 효과적인 형사소추 및 형사소송에서 진실발견이라는 공익과 개인의 인격적 이익 등 보호이익을 비교형량하여 그 허용 여부를 결정하여야 한다. \", \"이때 법원이 그 비교형량을 함에 있어서는 증거수집 절차와 관련된 모든 사정, 즉 사생활 내지 인격적 이익을 보호하여야 할 필요성 여부 및 정도, 증거수집 과정에서 사생활 기타 인격적 이익을 침해하게 된 경위와 침해의 내용 및 정도, 형사소추의 대상이 되는 범죄의 경중 및 성격, 피고인의 증거동의 여부 등을 전체적·종합적으로 고려하여야 한다.\", \"단지 형사소추에 필요한 증거라는 사정만을 들어 곧바로 형사소송에서 진실 발견이라는 공익이\n",
      "\n",
      "00은 현장에 출동한 경찰관들을 위험한 물건인 손도끼를 휘두르고, 경찰관들에게 폭행을 가하여 경찰관들의 범죄예방 및 진압업무에 관한 정당한 직무집행을 방해하고 이로 인하여 00에게 약 4주간의 치료를 요하는 비골골절을, 정*에게 약 10일간의 치료를 요하는 우측 제5수지 교상열창의 상해를 각 가하였다.\"]}, \"assrs\": {\"acusrAssrs\": [], \"dedatAssrs\": []}, \"facts\": {\"bsisFacts\": [\"피고인은 2012. 4. 9. 15:00경 0000에 있는 상호를 알 수 없는 식당에서 동생인 피해자 00(36세)과 술을 마시던 중, 어머니에 대한 부양 문제로 말다툼을 하다가 피해자에게 충고를 하였는데도 오히려 피해자가 \\\"기분 나쁘다\\\"며 주먹으로 피고인의 얼굴을 3회\n",
      "\n",
      "젖은 잉크 포장비닐 5개(증 제9호), 잉크주입 주사기 5개(증 제10호), 빨간고무코팅 목장갑 1짝(증 제11호)를 피고인 00로부터 각 몰수한다.\", \"한국은행권 오만 원권 위폐(기번호 CJ0348045A) 40매(증 제12호), 30cm 사무용 자 2개(증 제13호), 사무용 칼 1개(증 제14호)를 피고인 00으로부터, 0(00사용) 검정색 SKY 1개(증 제15호)를 피고인 00로부터 각 몰수한다.\"]}}\n",
      "\n",
      "각 300만원, 100만원을 공탁한 점, 이 사건 범행을 모두 인정하며 자신의 잘못을 뉘우치고 있는 점 등이 있다.\", \"아래와 같은 점을 모두 고려할 때, 권고형량범위의 하한이 무겁다고 판단되어 이를 이탈하여 형을 정한다.\"]}, \"close\": {\"cnclsns\": [\"피고인 00을 징역 8월에, 피고인 00을 징역 2년에 각 처한다.\", \"다만, 피고인 00에 대하여는 이 판결 확정일부터 2년간 위 형의 집행을 유예한다. 압수된 부엌칼 1자루(증 제1호)를 피고인 00으로 부터, 손도끼 1자루(증 제2호)를 피고인 00으로부터 각 몰수한다.\"]}}\n",
      "[최종 답변]\n",
      "Agent stopped due to max iterations.\n"
     ]
    }
   ],
   "source": [
    "temp_data = make_question_data(documents[0])\n",
    "print(temp_data)\n",
    "result = agent_executor.stream({\"question\": temp_data})\n",
    "\n",
    "\n",
    "for step in result:\n",
    "    # 중간 단계를 parser 를 사용하여 단계별로 출력\n",
    "    agent_stream_parser.process_agent_steps(step)"
   ]
  },
  {
   "cell_type": "code",
   "execution_count": 93,
   "metadata": {},
   "outputs": [
    {
     "name": "stderr",
     "output_type": "stream",
     "text": [
      "Stopping agent prematurely due to triggering stop condition\n"
     ]
    },
    {
     "name": "stdout",
     "output_type": "stream",
     "text": [
      "Agent stopped due to max iterations.\n",
      "['형법 제347조', '형법 제352조', '형법 제30조 ', '형법 제37조', '형법 제38조', '형법 제50조', '형법 제62조', '형법 제48조']\n"
     ]
    }
   ],
   "source": [
    "from nltk.translate import meteor_score\n",
    "\n",
    "question_data = make_question_data(documents[0])\n",
    "chunks = []\n",
    "\n",
    "for chunk in agent_executor.stream({\"question\": question_data}):\n",
    "    chunks.append(chunk)\n",
    "for chunk in chunks:\n",
    "    if \"output\" in chunk:\n",
    "        pred = chunk.get(\"output\")\n",
    "answer = documents[0].get(\"metadata\").get(\"info\").get(\"relateLaword\")\n",
    "\n",
    "print(pred)\n",
    "print(answer)"
   ]
  },
  {
   "cell_type": "code",
   "execution_count": null,
   "metadata": {},
   "outputs": [],
   "source": []
  }
 ],
 "metadata": {
  "kernelspec": {
   "display_name": "legal-case-search-Fj9hgQrs-py3.11",
   "language": "python",
   "name": "python3"
  },
  "language_info": {
   "codemirror_mode": {
    "name": "ipython",
    "version": 3
   },
   "file_extension": ".py",
   "mimetype": "text/x-python",
   "name": "python",
   "nbconvert_exporter": "python",
   "pygments_lexer": "ipython3",
   "version": "3.11.9"
  }
 },
 "nbformat": 4,
 "nbformat_minor": 2
}
